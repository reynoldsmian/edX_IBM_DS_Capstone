{
 "cells": [
  {
   "cell_type": "markdown",
   "metadata": {},
   "source": [
    "# Question 4\n",
    "Predict the Top Complaint Type"
   ]
  },
  {
   "cell_type": "markdown",
   "metadata": {},
   "source": [
    "# Imports + Options"
   ]
  },
  {
   "cell_type": "code",
   "execution_count": 1,
   "metadata": {},
   "outputs": [],
   "source": [
    "# Normal data analysis packages \n",
    "import pandas as pd\n",
    "import numpy as np\n",
    "import matplotlib.pyplot as plt\n",
    "import seaborn as sns\n",
    "\n",
    "# ML packages \n",
    "from sklearn.model_selection import train_test_split\n",
    "from sklearn.linear_model import LogisticRegression\n",
    "from sklearn.metrics import classification_report, confusion_matrix\n",
    "from sklearn.preprocessing import MinMaxScaler\n",
    "from tensorflow.keras.models import Sequential\n",
    "from tensorflow.keras.layers import Dense,Dropout"
   ]
  },
  {
   "cell_type": "code",
   "execution_count": 2,
   "metadata": {},
   "outputs": [],
   "source": [
    "pd.options.display.max_rows = 200\n",
    "pd.options.display.max_columns = 40\n",
    "\n",
    "sns.set_style('whitegrid')"
   ]
  },
  {
   "cell_type": "markdown",
   "metadata": {},
   "source": [
    "# Data"
   ]
  },
  {
   "cell_type": "markdown",
   "metadata": {},
   "source": [
    "## Data Imports"
   ]
  },
  {
   "cell_type": "code",
   "execution_count": 3,
   "metadata": {},
   "outputs": [
    {
     "name": "stdout",
     "output_type": "stream",
     "text": [
      "<class 'pandas.core.frame.DataFrame'>\n",
      "Int64Index: 83487 entries, 0 to 89852\n",
      "Data columns (total 32 columns):\n",
      " #   Column            Non-Null Count  Dtype  \n",
      "---  ------            --------------  -----  \n",
      " 0   HeatingComplaint  83487 non-null  float64\n",
      " 1   LotArea           83487 non-null  int64  \n",
      " 2   BldgArea          83487 non-null  int64  \n",
      " 3   ComArea           83487 non-null  int64  \n",
      " 4   ResArea           83487 non-null  int64  \n",
      " 5   OfficeArea        83487 non-null  int64  \n",
      " 6   RetailArea        83487 non-null  int64  \n",
      " 7   GarageArea        83487 non-null  int64  \n",
      " 8   StrgeArea         83487 non-null  int64  \n",
      " 9   FactryArea        83487 non-null  int64  \n",
      " 10  OtherArea         83487 non-null  int64  \n",
      " 11  NumBldgs          83487 non-null  int64  \n",
      " 12  NumFloors         83487 non-null  float64\n",
      " 13  UnitsTotal        83487 non-null  int64  \n",
      " 14  AssessLand        83487 non-null  int64  \n",
      " 15  AssessTot         83487 non-null  int64  \n",
      " 16  YearBuilt         83487 non-null  int64  \n",
      " 17  YearAlter1        83487 non-null  int64  \n",
      " 18  BlockAssemblage   83487 non-null  uint8  \n",
      " 19  Waterfront        83487 non-null  uint8  \n",
      " 20  Corner            83487 non-null  uint8  \n",
      " 21  Through           83487 non-null  uint8  \n",
      " 22  Inside            83487 non-null  uint8  \n",
      " 23  Interior          83487 non-null  uint8  \n",
      " 24  Island            83487 non-null  uint8  \n",
      " 25  Alley             83487 non-null  uint8  \n",
      " 26  Submerged         83487 non-null  uint8  \n",
      " 27  FullBsmtAbove     83487 non-null  uint8  \n",
      " 28  FullBsmtBelow     83487 non-null  uint8  \n",
      " 29  PartialBsmtAbove  83487 non-null  uint8  \n",
      " 30  PartialBsmtBelow  83487 non-null  uint8  \n",
      " 31  UnknownBsmt       83487 non-null  uint8  \n",
      "dtypes: float64(2), int64(16), uint8(14)\n",
      "memory usage: 13.2 MB\n"
     ]
    }
   ],
   "source": [
    "df311_final = pd.read_pickle('df311_final.pkl')\n",
    "df311_final.info()"
   ]
  },
  {
   "cell_type": "markdown",
   "metadata": {},
   "source": [
    "# Predictions"
   ]
  },
  {
   "cell_type": "markdown",
   "metadata": {},
   "source": [
    "## Train/ Test Split"
   ]
  },
  {
   "cell_type": "code",
   "execution_count": 4,
   "metadata": {},
   "outputs": [],
   "source": [
    "X = df311_final.drop('HeatingComplaint',axis=1)\n",
    "y = df311_final['HeatingComplaint']\n",
    "X_train, X_test, y_train, y_test = train_test_split(X, y, test_size=0.30, random_state=101)"
   ]
  },
  {
   "cell_type": "markdown",
   "metadata": {},
   "source": [
    "## Logistic Regression Model"
   ]
  },
  {
   "cell_type": "code",
   "execution_count": 5,
   "metadata": {},
   "outputs": [
    {
     "name": "stderr",
     "output_type": "stream",
     "text": [
      "/Users/ianreynolds/Desktop/miniconda3/lib/python3.7/site-packages/sklearn/linear_model/_logistic.py:940: ConvergenceWarning: lbfgs failed to converge (status=1):\n",
      "STOP: TOTAL NO. of ITERATIONS REACHED LIMIT.\n",
      "\n",
      "Increase the number of iterations (max_iter) or scale the data as shown in:\n",
      "    https://scikit-learn.org/stable/modules/preprocessing.html\n",
      "Please also refer to the documentation for alternative solver options:\n",
      "    https://scikit-learn.org/stable/modules/linear_model.html#logistic-regression\n",
      "  extra_warning_msg=_LOGISTIC_SOLVER_CONVERGENCE_MSG)\n"
     ]
    }
   ],
   "source": [
    "complaint_logmodel = LogisticRegression()\n",
    "complaint_logmodel.fit(X_train,y_train)\n",
    "\n",
    "predictions = complaint_logmodel.predict(X_test)"
   ]
  },
  {
   "cell_type": "code",
   "execution_count": 6,
   "metadata": {},
   "outputs": [
    {
     "name": "stdout",
     "output_type": "stream",
     "text": [
      "              precision    recall  f1-score   support\n",
      "\n",
      "         0.0       0.81      0.99      0.89     19866\n",
      "         1.0       0.84      0.13      0.23      5181\n",
      "\n",
      "    accuracy                           0.82     25047\n",
      "   macro avg       0.83      0.56      0.56     25047\n",
      "weighted avg       0.82      0.82      0.76     25047\n",
      "\n",
      "[[19734   132]\n",
      " [ 4501   680]]\n"
     ]
    }
   ],
   "source": [
    "print(classification_report(y_test,predictions))\n",
    "print(confusion_matrix(y_test,predictions))"
   ]
  },
  {
   "cell_type": "markdown",
   "metadata": {},
   "source": [
    "# Prediction Using Tensorflow"
   ]
  },
  {
   "cell_type": "code",
   "execution_count": 7,
   "metadata": {},
   "outputs": [],
   "source": [
    "X = df311_final.drop('HeatingComplaint',axis=1).values\n",
    "y = df311_final['HeatingComplaint'].values\n",
    "X_train, X_test, y_train, y_test = train_test_split(X, y, test_size=0.30, random_state=101)"
   ]
  },
  {
   "cell_type": "code",
   "execution_count": 8,
   "metadata": {},
   "outputs": [],
   "source": [
    "scaler = MinMaxScaler()\n",
    "X_train = scaler.fit_transform(X_train)\n",
    "X_test = scaler.transform(X_test)"
   ]
  },
  {
   "cell_type": "code",
   "execution_count": 9,
   "metadata": {},
   "outputs": [],
   "source": [
    "model = Sequential()\n",
    "\n",
    "# input layer\n",
    "model.add(Dense(31,activation='relu'))\n",
    "model.add(Dropout(0.2))\n",
    "\n",
    "# hidden layer 1\n",
    "model.add(Dense(16,activation='relu'))\n",
    "model.add(Dropout(0.2))\n",
    "\n",
    "#Binary classification\n",
    "model.add(Dense(1,activation='sigmoid'))\n",
    "\n",
    "model.compile(loss='binary_crossentropy',optimizer='adam')"
   ]
  },
  {
   "cell_type": "code",
   "execution_count": 10,
   "metadata": {},
   "outputs": [
    {
     "name": "stdout",
     "output_type": "stream",
     "text": [
      "Train on 58440 samples, validate on 25047 samples\n",
      "Epoch 1/25\n",
      "58440/58440 [==============================] - 8s 135us/sample - loss: 0.4872 - val_loss: 0.4350\n",
      "Epoch 2/25\n",
      "58440/58440 [==============================] - 6s 105us/sample - loss: 0.4278 - val_loss: 0.4069\n",
      "Epoch 3/25\n",
      "58440/58440 [==============================] - 6s 108us/sample - loss: 0.4146 - val_loss: 0.4028\n",
      "Epoch 4/25\n",
      "58440/58440 [==============================] - 6s 109us/sample - loss: 0.4098 - val_loss: 0.4021\n",
      "Epoch 5/25\n",
      "58440/58440 [==============================] - 6s 110us/sample - loss: 0.4067 - val_loss: 0.3975\n",
      "Epoch 6/25\n",
      "58440/58440 [==============================] - 7s 127us/sample - loss: 0.4039 - val_loss: 0.3959\n",
      "Epoch 7/25\n",
      "58440/58440 [==============================] - 6s 107us/sample - loss: 0.4028 - val_loss: 0.3955\n",
      "Epoch 8/25\n",
      "58440/58440 [==============================] - 6s 103us/sample - loss: 0.4018 - val_loss: 0.3946\n",
      "Epoch 9/25\n",
      "58440/58440 [==============================] - 6s 106us/sample - loss: 0.4018 - val_loss: 0.3958\n",
      "Epoch 10/25\n",
      "58440/58440 [==============================] - 7s 115us/sample - loss: 0.4001 - val_loss: 0.3943\n",
      "Epoch 11/25\n",
      "58440/58440 [==============================] - 6s 110us/sample - loss: 0.3990 - val_loss: 0.3953\n",
      "Epoch 12/25\n",
      "58440/58440 [==============================] - 6s 110us/sample - loss: 0.3985 - val_loss: 0.3949\n",
      "Epoch 13/25\n",
      "58440/58440 [==============================] - 7s 117us/sample - loss: 0.3977 - val_loss: 0.3916\n",
      "Epoch 14/25\n",
      "58440/58440 [==============================] - 6s 105us/sample - loss: 0.3981 - val_loss: 0.3927\n",
      "Epoch 15/25\n",
      "58440/58440 [==============================] - 6s 106us/sample - loss: 0.3968 - val_loss: 0.3921\n",
      "Epoch 16/25\n",
      "58440/58440 [==============================] - 7s 118us/sample - loss: 0.3961 - val_loss: 0.3907\n",
      "Epoch 17/25\n",
      "58440/58440 [==============================] - 8s 139us/sample - loss: 0.3970 - val_loss: 0.3906\n",
      "Epoch 18/25\n",
      "58440/58440 [==============================] - 9s 151us/sample - loss: 0.3962 - val_loss: 0.3892\n",
      "Epoch 19/25\n",
      "58440/58440 [==============================] - 7s 128us/sample - loss: 0.3958 - val_loss: 0.3893\n",
      "Epoch 20/25\n",
      "58440/58440 [==============================] - 6s 110us/sample - loss: 0.3962 - val_loss: 0.3900\n",
      "Epoch 21/25\n",
      "58440/58440 [==============================] - 7s 127us/sample - loss: 0.3954 - val_loss: 0.3899\n",
      "Epoch 22/25\n",
      "58440/58440 [==============================] - 8s 133us/sample - loss: 0.3955 - val_loss: 0.3915\n",
      "Epoch 23/25\n",
      "58440/58440 [==============================] - 10s 165us/sample - loss: 0.3952 - val_loss: 0.3890\n",
      "Epoch 24/25\n",
      "58440/58440 [==============================] - 7s 124us/sample - loss: 0.3947 - val_loss: 0.3888\n",
      "Epoch 25/25\n",
      "58440/58440 [==============================] - 9s 154us/sample - loss: 0.3947 - val_loss: 0.3892\n"
     ]
    },
    {
     "data": {
      "text/plain": [
       "<tensorflow.python.keras.callbacks.History at 0x113a62310>"
      ]
     },
     "execution_count": 10,
     "metadata": {},
     "output_type": "execute_result"
    }
   ],
   "source": [
    "model.fit(x=X_train,y=y_train,epochs=25,validation_data=(X_test,y_test))"
   ]
  },
  {
   "cell_type": "code",
   "execution_count": 11,
   "metadata": {},
   "outputs": [
    {
     "data": {
      "text/plain": [
       "<matplotlib.axes._subplots.AxesSubplot at 0x1a3da5f550>"
      ]
     },
     "execution_count": 11,
     "metadata": {},
     "output_type": "execute_result"
    },
    {
     "data": {
      "image/png": "[encoded data removed]",
      "text/plain": [
       "<Figure size 432x288 with 1 Axes>"
      ]
     },
     "metadata": {},
     "output_type": "display_data"
    }
   ],
   "source": [
    "model_loss = pd.DataFrame(model.history.history)\n",
    "model_loss.plot()"
   ]
  },
  {
   "cell_type": "code",
   "execution_count": 12,
   "metadata": {},
   "outputs": [
    {
     "name": "stdout",
     "output_type": "stream",
     "text": [
      "              precision    recall  f1-score   support\n",
      "\n",
      "         0.0       0.86      0.97      0.91     19866\n",
      "         1.0       0.79      0.37      0.50      5181\n",
      "\n",
      "    accuracy                           0.85     25047\n",
      "   macro avg       0.82      0.67      0.71     25047\n",
      "weighted avg       0.84      0.85      0.83     25047\n",
      "\n",
      "[[19367   499]\n",
      " [ 3282  1899]]\n"
     ]
    }
   ],
   "source": [
    "predictions = model.predict_classes(X_test)\n",
    "\n",
    "print(classification_report(y_test,predictions))\n",
    "print(confusion_matrix(y_test,predictions))"
   ]
  },
  {
   "cell_type": "code",
   "execution_count": 22,
   "metadata": {},
   "outputs": [
    {
     "data": {
      "text/plain": [
       "array([0., 0., 0., ..., 0., 1., 1.])"
      ]
     },
     "execution_count": 22,
     "metadata": {},
     "output_type": "execute_result"
    }
   ],
   "source": [
    "y_test"
   ]
  },
  {
   "cell_type": "code",
   "execution_count": 24,
   "metadata": {},
   "outputs": [
    {
     "data": {
      "image/png": "[encoded data removed]",
      "text/plain": [
       "<Figure size 432x288 with 2 Axes>"
      ]
     },
     "metadata": {},
     "output_type": "display_data"
    }
   ],
   "source": [
    "predictions_flat = [item for sublist in predictions for item in sublist]\n",
    "data = {'y_Actual': y_test, 'y_Predicted':predictions_flat}\n",
    "\n",
    "df = pd.DataFrame(data, columns=['y_Actual','y_Predicted'])\n",
    "confusion_matrix = pd.crosstab(df['y_Actual'], df['y_Predicted'], rownames=['Actual'], colnames=['Predicted'])\n",
    "\n",
    "sns.heatmap(confusion_matrix, annot=True)\n",
    "plt.show()"
   ]
  },
  {
   "cell_type": "markdown",
   "metadata": {},
   "source": [
    "# Conclusions"
   ]
  },
  {
   "cell_type": "markdown",
   "metadata": {},
   "source": [
    "- Convergence could not be reached with a logistic "
   ]
  }
 ],
 "metadata": {
  "kernelspec": {
   "display_name": "Python 3",
   "language": "python",
   "name": "python3"
  },
  "language_info": {
   "codemirror_mode": {
    "name": "ipython",
    "version": 3
   },
   "file_extension": ".py",
   "mimetype": "text/x-python",
   "name": "python",
   "nbconvert_exporter": "python",
   "pygments_lexer": "ipython3",
   "version": "3.7.4"
  },
  "toc": {
   "base_numbering": 1,
   "nav_menu": {},
   "number_sections": true,
   "sideBar": true,
   "skip_h1_title": false,
   "title_cell": "Table of Contents",
   "title_sidebar": "Contents",
   "toc_cell": false,
   "toc_position": {},
   "toc_section_display": true,
   "toc_window_display": true
  }
 },
 "nbformat": 4,
 "nbformat_minor": 4
}
